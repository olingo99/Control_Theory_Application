{
 "cells": [
  {
   "cell_type": "markdown",
   "id": "66f89c59-9940-4235-aa2a-7f0c55606adc",
   "metadata": {},
   "source": [
    "# Imports"
   ]
  },
  {
   "cell_type": "code",
   "execution_count": 1,
   "id": "88f22135-394b-481b-a6fb-84064b21eb80",
   "metadata": {},
   "outputs": [],
   "source": [
    "import numpy as np\n",
    "import matplotlib.pyplot as plt\n",
    "from scipy.optimize import minimize\n",
    "from matplotlib import colors as mcolors\n",
    "from __future__ import print_function\n",
    "from ipywidgets import interact, interactive, fixed, interact_manual\n",
    "import ipywidgets as widgets\n",
    "\n",
    "from package_Engels_Theo_Losseau_Baudouin import Run_LL, Lead_Lag_Discreet_RT, PID_RT, FF_RT, sim_tclabP,PID, IMC_Tuning_SOPDT,bodePID,bodePC,Margin,find_nearest_index\n",
    "\n",
    "import package_DBR\n",
    "from package_DBR import myRound, SelectPath_RT, Delay_RT, FO_RT, FOPDT, SOPDT, FOPDT_cost, SOPDT_cost, Process, Bode"
   ]
  },
  {
   "cell_type": "markdown",
   "id": "4efec07a-7471-4e9e-b385-e6611f994724",
   "metadata": {},
   "source": [
    "# LeadLag"
   ]
  },
  {
   "cell_type": "code",
   "execution_count": null,
   "id": "b52a7242-2dc5-49ee-8b06-dfe1db319116",
   "metadata": {},
   "outputs": [],
   "source": [
    "help(Lead_Lag_Discreet_RT)"
   ]
  },
  {
   "cell_type": "code",
   "execution_count": null,
   "id": "66205db6-c213-4258-b0ca-37a82b803f37",
   "metadata": {},
   "outputs": [],
   "source": [
    "TSim = 50\n",
    "Ts = 0.1\n",
    "N = int(TSim/Ts) + 1\n",
    "\n",
    "# Path for MV\n",
    "MVPath = {0: 0, 2: -1,12:2,22:3}\n",
    "\n",
    "Tlead = 3\n",
    "Tlag = 2\n",
    "\n",
    "t = []\n",
    "MV = []\n",
    "PVEBD = []\n",
    "PVEFD = []\n",
    "PVTRAP = []\n",
    "\n",
    "\n",
    "for i in range(0,N):\n",
    "    t.append(i*Ts)\n",
    "    SelectPath_RT(MVPath,t,MV)\n",
    "    Lead_Lag_Discreet_RT(MV,PVEBD,Tlead,Tlag,Ts)\n",
    "    # Lead_Lag_Discreet_RT(MV,PVEFD,Tlead,Tlag,Ts,method='EFD')\n",
    "    # Lead_Lag_Discreet_RT(MV,PVTRAP,Tlead,Tlag,Ts,method='TRAP')\n",
    "    \n",
    "    \n",
    "plt.figure(figsize = (15,9))\n",
    "\n",
    "plt.step(t,MV,'b-',label='MV',where='post')\n",
    "plt.step(t,PVEBD,'skyblue',label='PVEBD',where='post')\n",
    "# plt.step(t,PVEFD,'red',label='PVEFD',where='post')\n",
    "# plt.step(t,PVEFD,'black',label='PVTRAP',where='post')\n",
    "plt.ylabel('Value of MV')\n",
    "plt.legend(loc='best')\n",
    "plt.title('Path response')\n",
    "plt.xlim([0, TSim])"
   ]
  },
  {
   "cell_type": "markdown",
   "id": "dc4579a5-b7f8-4b16-93fc-f26d062460e5",
   "metadata": {},
   "source": [
    "# Interactive Diplsay of Lead_Lag"
   ]
  },
  {
   "cell_type": "code",
   "execution_count": null,
   "id": "34cd63cc-3ba2-464f-a344-a2c2c9042d3a",
   "metadata": {},
   "outputs": [],
   "source": [
    "help(Run_LL)"
   ]
  },
  {
   "cell_type": "code",
   "execution_count": null,
   "id": "3a8e550c-f3f4-4fca-b94f-ad429b0b19e2",
   "metadata": {},
   "outputs": [],
   "source": [
    "interactive(Run_LL,Tlead=(1,10),Tlag=(1,10),TSim=(5,100),method = ['EBD','EFD','TRAP'])"
   ]
  },
  {
   "cell_type": "markdown",
   "id": "7b5fa5a4-2969-43f9-8088-c92e54710c1f",
   "metadata": {},
   "source": [
    "# Exemple of difference between method used in Lead_Lag"
   ]
  },
  {
   "cell_type": "code",
   "execution_count": null,
   "id": "3ff3a304-f928-4498-b9ef-a44efbe81b3d",
   "metadata": {},
   "outputs": [],
   "source": [
    "TSim = 5\n",
    "Ts = 0.1\n",
    "N = int(TSim/Ts) + 1\n",
    "\n",
    "# Path for MV and MVMan\n",
    "MVPath = {0: 0, 1: -1}\n",
    "\n",
    "Tlead = 3\n",
    "Tlag = 2\n",
    "\n",
    "t = []\n",
    "MV = []\n",
    "PVEBD = []\n",
    "PVEFD = []\n",
    "PVTRAP = []\n",
    "\n",
    "for i in range(0,N):\n",
    "    t.append(i*Ts)\n",
    "    SelectPath_RT(MVPath,t,MV)\n",
    "    Lead_Lag_Discreet_RT(MV,PVEBD,Tlead,Tlag,Ts)\n",
    "    Lead_Lag_Discreet_RT(MV,PVEFD,Tlead,Tlag,Ts,method='EFD')\n",
    "    Lead_Lag_Discreet_RT(MV,PVTRAP,Tlead,Tlag,Ts,method='TRAP')\n",
    "    \n",
    "    \n",
    "plt.figure(figsize = (15,9))\n",
    "\n",
    "plt.step(t,MV,'b-',label='MV',where='post')\n",
    "plt.step(t,PVEBD,'skyblue',label='PVEBD',where='post')\n",
    "plt.step(t,PVEFD,'red',label='PVEFD',where='post')\n",
    "plt.step(t,PVEFD,'black',label='PVTRAP',where='post')\n",
    "plt.ylabel('Value of MV')\n",
    "plt.legend(loc='best')\n",
    "plt.title('Path response')\n",
    "plt.xlim([0, TSim])"
   ]
  },
  {
   "cell_type": "markdown",
   "id": "d4e5df14-421f-46ab-8ed9-9f8c511f2a7d",
   "metadata": {},
   "source": [
    "# PID_RT()"
   ]
  },
  {
   "cell_type": "code",
   "execution_count": null,
   "id": "0c81ab2e-3b1d-45c1-af50-518e499c5950",
   "metadata": {},
   "outputs": [],
   "source": [
    "help(PID_RT)"
   ]
  },
  {
   "cell_type": "code",
   "execution_count": null,
   "id": "fd46dbd5-13d6-4730-a0ff-32c7f479d143",
   "metadata": {},
   "outputs": [],
   "source": [
    "TSim = 1000\n",
    "Ts = 0.1\n",
    "N = int(TSim/Ts) + 1\n",
    "\n",
    "# Path for MV and MVMan\n",
    "SPPath = {0: 0,5:10}\n",
    "PVPath = {0:0}\n",
    "\n",
    "\n",
    "Kc = 1\n",
    "Ti = 48\n",
    "Td = 17\n",
    "satMin = 0\n",
    "satMax = 100\n",
    "\n",
    "t = []\n",
    "MV = []\n",
    "PV = []\n",
    "SP = []\n",
    "MVP = []\n",
    "MVI = []\n",
    "MVD = []\n",
    "E = []\n",
    "\n",
    "\n",
    "for i in range(0,N):\n",
    "    t.append(i*Ts)\n",
    "    SelectPath_RT(SPPath,t,SP)\n",
    "    PID_RT(SP,PV,[0],[0],[0],Kc,Ti,Td,Ts,satMin,satMax,MV,MVP,MVI,MVD,E)\n",
    "\n",
    "    \n",
    "plt.figure(figsize = (15,9))\n",
    "\n",
    "plt.step(t,MV,'b',label='MV',where='post')\n",
    "plt.step(t,MVD,'red',label='MVD',where='post')\n",
    "plt.step(t,MVI,'green',label='MVI',where='post')\n",
    "plt.step(t,MVP,'b--',label='MVP',where='post')\n",
    "plt.step(t,E,'black',label='E=SP',where='post')\n",
    "plt.ylabel('Value of MV')\n",
    "plt.legend(loc='best')\n",
    "plt.title('Path response')\n",
    "plt.xlim([0, TSim])"
   ]
  },
  {
   "cell_type": "markdown",
   "id": "8a24106b-5dc0-4311-97c4-99d1eaa9a137",
   "metadata": {},
   "source": [
    "# sim_tclabP"
   ]
  },
  {
   "cell_type": "code",
   "execution_count": null,
   "id": "c1149447-e9a9-412b-a4e3-6a6a57627441",
   "metadata": {},
   "outputs": [],
   "source": [
    "help(sim_tclabP)"
   ]
  },
  {
   "cell_type": "code",
   "execution_count": null,
   "id": "5f57b6f5-20b4-40f4-8b12-77ba278cfee4",
   "metadata": {},
   "outputs": [],
   "source": [
    "TSim = 1000\n",
    "Ts = 0.1\n",
    "N = int(TSim/Ts) + 1\n",
    "\n",
    "# Path for MV and MVMan\n",
    "MVPath = {0:50}\n",
    "\n",
    "\n",
    "\n",
    "Tlead1 = 47.84\n",
    "# Tlag1 = 245.36\n",
    "Tlead2 = 17.39\n",
    "# Tlag2 = 3.13\n",
    "Theta1 = 9.31\n",
    "# Theta2 = 0.56\n",
    "Kp = 0.39\n",
    "# Kd = 0.63\n",
    "\n",
    "\n",
    "t = []\n",
    "MV = []\n",
    "PV = []\n",
    "PVtemp1=[]\n",
    "PVtemp2=[]\n",
    "\n",
    "for i in range(0,N):\n",
    "    t.append(i*Ts)\n",
    "    SelectPath_RT(MVPath,t,MV)\n",
    "    sim_tclabP(MV,PV,Ts,PVtemp1,PVtemp2,Kp,Tlead1,Tlead2,Theta1)\n",
    "\n",
    "    \n",
    "plt.figure(figsize = (15,9))\n",
    "\n",
    "plt.step(t,MV,'b',label='MV',where='post')\n",
    "plt.step(t,PV,'b',label='PV',where='post')\n",
    "\n",
    "plt.ylabel('Value of MV')\n",
    "plt.legend(loc='best')\n",
    "plt.title('Path response')\n",
    "plt.xlim([0, TSim])"
   ]
  },
  {
   "cell_type": "markdown",
   "id": "03c3c9a0-9650-4f5e-982f-f1c32a409039",
   "metadata": {},
   "source": [
    "# FF_RT"
   ]
  },
  {
   "cell_type": "code",
   "execution_count": null,
   "id": "f1b3ca35-ed8c-49b6-8bdf-bdbfb234b3c3",
   "metadata": {},
   "outputs": [],
   "source": [
    "help(FF_RT)"
   ]
  },
  {
   "cell_type": "code",
   "execution_count": null,
   "id": "b44e6bc4-4a6f-48cb-a51b-3cee9bfbc794",
   "metadata": {},
   "outputs": [],
   "source": [
    "Kp = 1\n",
    "Kd = 2\n",
    "Tlead1 = 2\n",
    "Tlead2 = 4\n",
    "Tlag1 = 1\n",
    "Tlag2 = 2\n",
    "Theta1 = 9\n",
    "Theta2 = 1\n",
    "MVFF = []\n",
    "PV1=[]\n",
    "PV2 = []\n",
    "MV = []\n",
    "t=[]\n",
    "TSim = 100\n",
    "Ts = 0.1\n",
    "N = int(TSim/Ts) + 1\n",
    "MVPath = {0:50,10:51,20:52,50:70}\n",
    "\n",
    "for i in range(0,N):\n",
    "    t.append(i*Ts)\n",
    "    SelectPath_RT(MVPath,t,MV)\n",
    "    FF_RT(MV,Tlead1,Tlag1,Tlead2,Tlag2,Theta1,Theta2,Kp,Kd,Ts,MVFF,PV1,PV2)\n",
    "    \n",
    "plt.figure(figsize = (15,9))\n",
    "\n",
    "plt.step(t,MV,'black',label='MV',where='post')\n",
    "plt.step(t,MVFF,'b',label='PV',where='post')\n",
    "\n",
    "plt.ylabel('Value of MV')\n",
    "plt.legend(loc='best')\n",
    "plt.title('Path response')\n",
    "plt.xlim([0, TSim])"
   ]
  },
  {
   "cell_type": "markdown",
   "id": "a23d3283-8535-4907-beb9-797052202538",
   "metadata": {},
   "source": [
    "# IMC_Tuning_SOPDT"
   ]
  },
  {
   "cell_type": "code",
   "execution_count": null,
   "id": "3c2dd24d-55f3-4868-a3c8-92de02138eed",
   "metadata": {},
   "outputs": [],
   "source": [
    "help(IMC_Tuning_SOPDT)"
   ]
  },
  {
   "cell_type": "code",
   "execution_count": null,
   "id": "84879d8e-a6b9-4846-a36d-1850c3269a5a",
   "metadata": {},
   "outputs": [],
   "source": [
    "Kp = 0.395\n",
    "T1 = 47.84\n",
    "T2 = 17.39\n",
    "theta = 9.31\n",
    "gamma = 0.2\n",
    "\n",
    "print(IMC_Tuning_SOPDT(Kp,T1,T2,theta,gamma))"
   ]
  },
  {
   "cell_type": "markdown",
   "id": "032ca2d3-0879-45e5-9e91-e5f583372a74",
   "metadata": {},
   "source": [
    "# bodePID"
   ]
  },
  {
   "cell_type": "code",
   "execution_count": null,
   "id": "464173bd-2cd2-4d5f-9422-4c1be5dfe7e6",
   "metadata": {},
   "outputs": [],
   "source": [
    "help(bodePID)"
   ]
  },
  {
   "cell_type": "code",
   "execution_count": null,
   "id": "8d9a4c01-5f11-41f2-b225-dfc4dd25d390",
   "metadata": {},
   "outputs": [],
   "source": [
    "C = PID({})\n",
    "\n",
    "C.parameters['Kc']=1\n",
    "C.parameters['Ti']=48\n",
    "C.parameters['Td']=17\n",
    "omega = np.logspace(-4, 1, 10000)\n",
    "\n",
    "bodePID(C,omega)"
   ]
  },
  {
   "cell_type": "markdown",
   "id": "c5991040-f4d8-436b-8d89-269a237dae9e",
   "metadata": {},
   "source": [
    "# bodePC"
   ]
  },
  {
   "cell_type": "code",
   "execution_count": null,
   "id": "a5b07bc5-2fa0-49bb-860d-c5f83bca27ac",
   "metadata": {},
   "outputs": [],
   "source": [
    "help(bodePC)"
   ]
  },
  {
   "cell_type": "code",
   "execution_count": null,
   "id": "b07a76fa-4722-4ced-a8e5-2ab607f27182",
   "metadata": {},
   "outputs": [],
   "source": [
    "P = Process({})\n",
    "P.parameters['Kp']=0.39\n",
    "P.parameters['Tlag1']=47.83\n",
    "P.parameters['Tlag2']=17.39\n",
    "P.parameters['theta']=9.31\n",
    "C = PID({})\n",
    "C.parameters['Kc']=1\n",
    "C.parameters['Ti']=48\n",
    "C.parameters['Td']=17\n",
    "omega = np.logspace(-4, 1, 10000)\n",
    "\n",
    "bodePC(P,C,omega)"
   ]
  },
  {
   "cell_type": "markdown",
   "id": "0d0045e1-7930-4f17-b6f8-aaaf09b8b907",
   "metadata": {},
   "source": [
    "# find_nearest_index"
   ]
  },
  {
   "cell_type": "code",
   "execution_count": null,
   "id": "82adc6f4-5af0-42ba-8a4a-78ecc1b5f546",
   "metadata": {},
   "outputs": [],
   "source": [
    "help(find_nearest_index)"
   ]
  },
  {
   "cell_type": "code",
   "execution_count": null,
   "id": "8ef143bb-50df-4681-9e2f-312e43dcb074",
   "metadata": {},
   "outputs": [],
   "source": [
    "array = [0,1,1.2,1.4,1.5,3,6]\n",
    "\n",
    "print(find_nearest_index(array,1.6))"
   ]
  },
  {
   "cell_type": "markdown",
   "id": "5118fb79-4451-41f7-9007-af9684526d97",
   "metadata": {},
   "source": [
    "# Margin"
   ]
  },
  {
   "cell_type": "code",
   "execution_count": null,
   "id": "56b593af-9560-4eb9-be7a-95180e4a6e8a",
   "metadata": {},
   "outputs": [],
   "source": [
    "help(Margin)"
   ]
  },
  {
   "cell_type": "code",
   "execution_count": null,
   "id": "e436adce-5735-457a-9ba6-f5f2c12fe4b7",
   "metadata": {},
   "outputs": [],
   "source": [
    "P = Process({})\n",
    "P.parameters['Kp']=0.39\n",
    "P.parameters['Tlag1']=47.83\n",
    "P.parameters['Tlag2']=17.39\n",
    "P.parameters['theta']=9.31\n",
    "C = PID({})\n",
    "C.parameters['Kc']=1\n",
    "C.parameters['Ti']=48\n",
    "C.parameters['Td']=17\n",
    "omega = np.logspace(-4, 1, 10000)\n",
    "\n",
    "\n",
    "\n",
    "Margin(P,C,omega)"
   ]
  },
  {
   "cell_type": "code",
   "execution_count": null,
   "id": "6ffbb10b-10e0-4ce9-8b95-838fe4b1d1ab",
   "metadata": {},
   "outputs": [],
   "source": []
  },
  {
   "cell_type": "code",
   "execution_count": null,
   "id": "2d5f7a09-6ec1-466f-b063-cbafbdbbf715",
   "metadata": {},
   "outputs": [],
   "source": []
  },
  {
   "cell_type": "code",
   "execution_count": null,
   "id": "ae30a672-147e-4b5f-b355-1bc382495dd0",
   "metadata": {},
   "outputs": [],
   "source": []
  }
 ],
 "metadata": {
  "kernelspec": {
   "display_name": "Python 3 (ipykernel)",
   "language": "python",
   "name": "python3"
  },
  "language_info": {
   "codemirror_mode": {
    "name": "ipython",
    "version": 3
   },
   "file_extension": ".py",
   "mimetype": "text/x-python",
   "name": "python",
   "nbconvert_exporter": "python",
   "pygments_lexer": "ipython3",
   "version": "3.9.7"
  }
 },
 "nbformat": 4,
 "nbformat_minor": 5
}
