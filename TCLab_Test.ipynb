{
 "cells": [
  {
   "cell_type": "markdown",
   "id": "4b75e1af-47f6-458b-a92a-f5e263df5950",
   "metadata": {},
   "source": [
    "# TCLab_Test"
   ]
  },
  {
   "cell_type": "code",
   "execution_count": 5,
   "id": "c9193608-41eb-41c1-afc0-96ef425f2ed0",
   "metadata": {},
   "outputs": [],
   "source": [
    "import tclab\n",
    "import time"
   ]
  },
  {
   "cell_type": "markdown",
   "id": "524e979d-8d92-467e-b0a7-d1f92c5d7d24",
   "metadata": {},
   "source": [
    "# Connect to TCLab"
   ]
  },
  {
   "cell_type": "code",
   "execution_count": 6,
   "id": "d607ae06-cf4d-49f2-bd5c-4234b9258843",
   "metadata": {},
   "outputs": [
    {
     "name": "stdout",
     "output_type": "stream",
     "text": [
      "TCLab version 0.4.9\n",
      "Arduino Leonardo connected on port COM7 at 115200 baud.\n",
      "TCLab Firmware 1.4.3 Arduino Leonardo/Micro.\n",
      "21.22\n",
      "20.9\n",
      "TCLab disconnected successfully.\n"
     ]
    }
   ],
   "source": [
    "lab = tclab.TCLab()\n",
    "\n",
    "lab.Q1(50)\n",
    "lab.Q2(50)\n",
    "\n",
    "time.sleep(20)\n",
    "\n",
    "print(lab.T1)\n",
    "print(lab.T2)\n",
    "\n",
    "lab.close() # Disconnect from TCLab"
   ]
  },
  {
   "cell_type": "code",
   "execution_count": null,
   "id": "50ca4b28-09fb-4f7e-8515-01c13b0d9665",
   "metadata": {},
   "outputs": [],
   "source": []
  },
  {
   "cell_type": "code",
   "execution_count": null,
   "id": "20dc78a7-75b1-4933-ba50-9a16d8e2e1cb",
   "metadata": {},
   "outputs": [],
   "source": []
  }
 ],
 "metadata": {
  "kernelspec": {
   "display_name": "Python 3 (ipykernel)",
   "language": "python",
   "name": "python3"
  },
  "language_info": {
   "codemirror_mode": {
    "name": "ipython",
    "version": 3
   },
   "file_extension": ".py",
   "mimetype": "text/x-python",
   "name": "python",
   "nbconvert_exporter": "python",
   "pygments_lexer": "ipython3",
   "version": "3.9.7"
  }
 },
 "nbformat": 4,
 "nbformat_minor": 5
}
