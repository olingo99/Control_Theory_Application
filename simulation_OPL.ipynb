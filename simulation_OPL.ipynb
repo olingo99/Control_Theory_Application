{
 "cells": [
  {
   "cell_type": "markdown",
   "id": "73568d8b-17e7-4686-90e4-9198cba19eb1",
   "metadata": {},
   "source": [
    "Imports"
   ]
  },
  {
   "cell_type": "code",
   "execution_count": 1,
   "id": "e65a0156-66f1-4dc9-bf26-1f165a06caf3",
   "metadata": {},
   "outputs": [],
   "source": [
    "import pandas as pd\n",
    "import matplotlib.pyplot as plt\n",
    "import numpy as np\n",
    "from scipy.optimize import minimize\n",
    "\n",
    "import package_DBR\n",
    "from package_DBR import myRound, FOPDT, FOPDT_cost"
   ]
  },
  {
   "cell_type": "markdown",
   "id": "59c557c5-043b-455f-953a-7b5f57d7ab09",
   "metadata": {},
   "source": [
    "Load experimental data"
   ]
  },
  {
   "cell_type": "code",
   "execution_count": 6,
   "id": "8b198723-968e-4131-b9b9-8f30189aa324",
   "metadata": {},
   "outputs": [],
   "source": [
    "# nameFile = 'Open_loop_experiment_on_DV_2021-06-09-09h39.txt'\n",
    "nameFile = 'Open_loop_experiment_on_DV_2022-02-28-10h53.txt'\n",
    "\n",
    "if 'MV' in nameFile:\n",
    "    ExpVariable = 'MV'\n",
    "else:    \n",
    "    ExpVariable = 'DV'\n",
    "    \n",
    "print(ExpVariable)    \n",
    "    \n",
    "titleName = nameFile.split('.')[0]    \n",
    "data = pd.read_csv('Data/' + nameFile)\n",
    "t = data['t'].values - data['t'].values[0]\n",
    "MV = data['MV'].values\n",
    "PV = data['PV'].values\n",
    "DV = data['DV'].values"
   ]
  },
  {
   "cell_type": "markdown",
   "id": "61994ade-c15e-4aba-b470-497c398af8aa",
   "metadata": {},
   "source": [
    "FOPDT from identification"
   ]
  },
  {
   "cell_type": "code",
   "execution_count": null,
   "id": "e3d7ecf7-14b1-42f9-86c2-21733616f4be",
   "metadata": {},
   "outputs": [],
   "source": [
    "K = 0.6356477633243692\n",
    "T = 247.4609686582308\n",
    "theta = 4.999529336179724"
   ]
  },
  {
   "cell_type": "markdown",
   "id": "6c9d8dfb-7dd9-4ac1-8edd-124ff43b675e",
   "metadata": {},
   "source": [
    "Create Plot"
   ]
  },
  {
   "cell_type": "code",
   "execution_count": 9,
   "id": "ffa47a0f-6ea7-4eb8-89c8-2a46db54d37e",
   "metadata": {},
   "outputs": [
    {
     "ename": "ValueError",
     "evalue": "The truth value of an array with more than one element is ambiguous. Use a.any() or a.all()",
     "output_type": "error",
     "traceback": [
      "\u001b[1;31m---------------------------------------------------------------------------\u001b[0m",
      "\u001b[1;31mValueError\u001b[0m                                Traceback (most recent call last)",
      "\u001b[1;32m~\\AppData\\Local\\Temp/ipykernel_1064/1017359406.py\u001b[0m in \u001b[0;36m<module>\u001b[1;34m\u001b[0m\n\u001b[0;32m     19\u001b[0m         \u001b[0max1\u001b[0m\u001b[1;33m.\u001b[0m\u001b[0mset_ylim\u001b[0m\u001b[1;33m(\u001b[0m\u001b[0mmyRound\u001b[0m\u001b[1;33m(\u001b[0m\u001b[0mnp\u001b[0m\u001b[1;33m.\u001b[0m\u001b[0mmin\u001b[0m\u001b[1;33m(\u001b[0m\u001b[0mDV\u001b[0m\u001b[1;33m[\u001b[0m\u001b[0mi\u001b[0m\u001b[1;33m]\u001b[0m\u001b[1;33m)\u001b[0m\u001b[1;33m,\u001b[0m\u001b[1;36m1\u001b[0m\u001b[1;33m)\u001b[0m\u001b[1;33m-\u001b[0m\u001b[1;36m0.1\u001b[0m\u001b[1;33m,\u001b[0m \u001b[0mmyRound\u001b[0m\u001b[1;33m(\u001b[0m\u001b[0mnp\u001b[0m\u001b[1;33m.\u001b[0m\u001b[0mmax\u001b[0m\u001b[1;33m(\u001b[0m\u001b[0mDV\u001b[0m\u001b[1;33m[\u001b[0m\u001b[0mi\u001b[0m\u001b[1;33m]\u001b[0m\u001b[1;33m)\u001b[0m\u001b[1;33m,\u001b[0m\u001b[1;36m1\u001b[0m\u001b[1;33m)\u001b[0m\u001b[1;33m+\u001b[0m\u001b[1;36m0.1\u001b[0m\u001b[1;33m)\u001b[0m\u001b[1;33m\u001b[0m\u001b[1;33m\u001b[0m\u001b[0m\n\u001b[0;32m     20\u001b[0m \u001b[1;33m\u001b[0m\u001b[0m\n\u001b[1;32m---> 21\u001b[1;33m \u001b[0max1\u001b[0m\u001b[1;33m.\u001b[0m\u001b[0mset_xlim\u001b[0m\u001b[1;33m(\u001b[0m\u001b[1;36m0\u001b[0m\u001b[1;33m,\u001b[0m \u001b[0mt\u001b[0m\u001b[1;33m[\u001b[0m\u001b[1;33m-\u001b[0m\u001b[1;36m1\u001b[0m\u001b[1;33m]\u001b[0m\u001b[1;33m+\u001b[0m\u001b[1;36m1\u001b[0m\u001b[1;33m)\u001b[0m\u001b[1;33m\u001b[0m\u001b[1;33m\u001b[0m\u001b[0m\n\u001b[0m",
      "\u001b[1;32m~\\anaconda3\\lib\\site-packages\\matplotlib\\axes\\_base.py\u001b[0m in \u001b[0;36mset_xlim\u001b[1;34m(self, left, right, emit, auto, xmin, xmax)\u001b[0m\n\u001b[0;32m   3548\u001b[0m                     'Invalid limit will be ignored.')\n\u001b[0;32m   3549\u001b[0m                 \u001b[0mright\u001b[0m \u001b[1;33m=\u001b[0m \u001b[0mold_right\u001b[0m\u001b[1;33m\u001b[0m\u001b[1;33m\u001b[0m\u001b[0m\n\u001b[1;32m-> 3550\u001b[1;33m         \u001b[1;32mif\u001b[0m \u001b[0mleft\u001b[0m \u001b[1;33m==\u001b[0m \u001b[0mright\u001b[0m\u001b[1;33m:\u001b[0m\u001b[1;33m\u001b[0m\u001b[1;33m\u001b[0m\u001b[0m\n\u001b[0m\u001b[0;32m   3551\u001b[0m             _api.warn_external(\n\u001b[0;32m   3552\u001b[0m                 \u001b[1;34mf\"Attempting to set identical left == right == {left} results \"\u001b[0m\u001b[1;33m\u001b[0m\u001b[1;33m\u001b[0m\u001b[0m\n",
      "\u001b[1;31mValueError\u001b[0m: The truth value of an array with more than one element is ambiguous. Use a.any() or a.all()"
     ]
    },
    {
     "data": {
      "text/plain": [
       "<Figure size 1584x1584 with 0 Axes>"
      ]
     },
     "metadata": {},
     "output_type": "display_data"
    }
   ],
   "source": [
    "if ExpVariable == 'MV':\n",
    "    PVSim = FOPDT(MVm,K,T,theta,Ts)\n",
    "else:\n",
    "    PVSim = FOPDT(DVm,K,T,theta,Ts)    \n",
    "\n",
    "plt.figure(figsize = (22,12))\n",
    "\n",
    "plt.subplot(2,1,1)\n",
    "if ExpVariable == 'MV':\n",
    "    plt.step(tm,MVm,'b-',linewidth=2,label='Cleaned MV',where='post')\n",
    "    plt.ylabel('Value of MV')\n",
    "else:\n",
    "    plt.step(tm,DVm,'b-',linewidth=2,label='Cleaned DV',where='post')\n",
    "    plt.ylabel('Value of DV') \n",
    "    \n",
    "plt.title('Experiment and identified first order plus delay response')\n",
    "plt.legend(loc='best')\n",
    "plt.xlim([0, t[-1]])\n",
    "\n",
    "plt.subplot(2,1,2)\n",
    "plt.step(tm,PVm,'g-',linewidth=2,label='Cleaned experimental data',where='post')\n",
    "plt.step(tm,PVSim,'r-',linewidth=2,label='Identified first order plus delay response',where='post')\n",
    "plt.ylabel('Value of PV')\n",
    "plt.xlabel('Time [s]')\n",
    "plt.legend(loc='best')\n",
    "plt.xlim([0, t[-1]])\n"
   ]
  },
  {
   "cell_type": "code",
   "execution_count": null,
   "id": "5083ee86-6783-4805-9a40-5c8a438e06a0",
   "metadata": {},
   "outputs": [],
   "source": []
  }
 ],
 "metadata": {
  "kernelspec": {
   "display_name": "Python 3 (ipykernel)",
   "language": "python",
   "name": "python3"
  },
  "language_info": {
   "codemirror_mode": {
    "name": "ipython",
    "version": 3
   },
   "file_extension": ".py",
   "mimetype": "text/x-python",
   "name": "python",
   "nbconvert_exporter": "python",
   "pygments_lexer": "ipython3",
   "version": "3.9.7"
  }
 },
 "nbformat": 4,
 "nbformat_minor": 5
}
